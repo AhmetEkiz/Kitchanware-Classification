{
 "cells": [
  {
   "cell_type": "code",
   "execution_count": 1,
   "id": "494f69f8",
   "metadata": {
    "_cell_guid": "b1076dfc-b9ad-4769-8c92-a6c4dae69d19",
    "_uuid": "8f2839f25d086af736a60e9eeb907d3b93b6e0e5",
    "execution": {
     "iopub.execute_input": "2023-01-31T23:23:24.074641Z",
     "iopub.status.busy": "2023-01-31T23:23:24.073991Z",
     "iopub.status.idle": "2023-01-31T23:23:30.533932Z",
     "shell.execute_reply": "2023-01-31T23:23:30.531930Z"
    },
    "papermill": {
     "duration": 6.477597,
     "end_time": "2023-01-31T23:23:30.538560",
     "exception": false,
     "start_time": "2023-01-31T23:23:24.060963",
     "status": "completed"
    },
    "tags": []
   },
   "outputs": [
    {
     "name": "stdout",
     "output_type": "stream",
     "text": [
      "Tensorflow version: 2.6.4\n",
      "numpy version: 1.21.6\n",
      "pandas version: 1.3.5\n"
     ]
    }
   ],
   "source": [
    "# This Python 3 environment comes with many helpful analytics libraries installed\n",
    "# It is defined by the kaggle/python Docker image: https://github.com/kaggle/docker-python\n",
    "# For example, here's several helpful packages to load\n",
    "\n",
    "import numpy as np # linear algebra\n",
    "import pandas as pd # data processing, CSV file I/O (e.g. pd.read_csv)\n",
    "from matplotlib import pyplot as plt\n",
    "import seaborn as sns\n",
    "\n",
    "import tensorflow as tf\n",
    "from tensorflow import keras\n",
    "from tensorflow.keras import layers\n",
    "from tensorflow.keras.preprocessing.image import ImageDataGenerator\n",
    "\n",
    "from sklearn.metrics import classification_report, confusion_matrix\n",
    "from sklearn.model_selection import train_test_split\n",
    "\n",
    "import os\n",
    "# for dirname, _, filenames in os.walk('/kaggle/input'):\n",
    "#     for filename in filenames:\n",
    "#         print(os.path.join(dirname, filename))\n",
    "    \n",
    "SUB_FOLDER_PATH = \"../input/kitchenware-classification/images/\"\n",
    "\n",
    "print(\"Tensorflow version:\", tf.__version__)\n",
    "print(\"numpy version:\", np.__version__)\n",
    "print(\"pandas version:\", pd.__version__)"
   ]
  },
  {
   "cell_type": "markdown",
   "id": "97e728f7",
   "metadata": {
    "papermill": {
     "duration": 0.009683,
     "end_time": "2023-01-31T23:23:30.559977",
     "exception": false,
     "start_time": "2023-01-31T23:23:30.550294",
     "status": "completed"
    },
    "tags": []
   },
   "source": [
    "# Introduction\n",
    "\n",
    "### Files:\n",
    "- train.csv - the training set (Image IDs and classes)\n",
    "- test.csv - the test set (Just image IDs)\n",
    "- sample_submission.csv - a sample submission file in the correct format\n",
    "- images/ - the images in the JPEG format\n"
   ]
  },
  {
   "cell_type": "markdown",
   "id": "89bf5a1a",
   "metadata": {
    "papermill": {
     "duration": 0.008905,
     "end_time": "2023-01-31T23:23:30.578144",
     "exception": false,
     "start_time": "2023-01-31T23:23:30.569239",
     "status": "completed"
    },
    "tags": []
   },
   "source": [
    "# Load CSV\n",
    "\n",
    "We will use ***ImageDataGenerator.flow_from_dataframe()*** from *Tensorflow* so, The \"Id\" column must be string. And dataframe has to have image names with extension like jpg."
   ]
  },
  {
   "cell_type": "code",
   "execution_count": 2,
   "id": "08ecfb73",
   "metadata": {
    "execution": {
     "iopub.execute_input": "2023-01-31T23:23:30.600781Z",
     "iopub.status.busy": "2023-01-31T23:23:30.599234Z",
     "iopub.status.idle": "2023-01-31T23:23:30.650939Z",
     "shell.execute_reply": "2023-01-31T23:23:30.649821Z"
    },
    "papermill": {
     "duration": 0.065043,
     "end_time": "2023-01-31T23:23:30.653702",
     "exception": false,
     "start_time": "2023-01-31T23:23:30.588659",
     "status": "completed"
    },
    "tags": []
   },
   "outputs": [],
   "source": [
    "# All train data\n",
    "df = pd.read_csv(\"/kaggle/input/kitchenware-classification/train.csv\")\n",
    "\n",
    "# test data for competiton\n",
    "df_test_competition = pd.read_csv(\"/kaggle/input/kitchenware-classification/test.csv\")\n",
    "\n",
    "# example submission file\n",
    "df_submission = pd.read_csv(\"/kaggle/input/kitchenware-classification/sample_submission.csv\")\n",
    "\n",
    "\n",
    "# load the data with the targets\n",
    "df = pd.read_csv('../input/kitchenware-classification/train.csv', dtype={'Id': str})\n",
    "df['filename'] = df['Id'] + '.jpg'\n",
    "\n",
    "df_test_competition = pd.read_csv('../input/kitchenware-classification/test.csv', dtype={'Id': str})\n",
    "df_test_competition['filename'] =  df_test_competition['Id'] + '.jpg'\n",
    "\n",
    "df_submission = pd.read_csv('../input/kitchenware-classification/sample_submission.csv', dtype={'Id': str})"
   ]
  },
  {
   "cell_type": "code",
   "execution_count": 3,
   "id": "7a3a375c",
   "metadata": {
    "execution": {
     "iopub.execute_input": "2023-01-31T23:23:30.674968Z",
     "iopub.status.busy": "2023-01-31T23:23:30.674091Z",
     "iopub.status.idle": "2023-01-31T23:23:30.690765Z",
     "shell.execute_reply": "2023-01-31T23:23:30.689595Z"
    },
    "papermill": {
     "duration": 0.029748,
     "end_time": "2023-01-31T23:23:30.693084",
     "exception": false,
     "start_time": "2023-01-31T23:23:30.663336",
     "status": "completed"
    },
    "tags": []
   },
   "outputs": [
    {
     "data": {
      "text/html": [
       "<div>\n",
       "<style scoped>\n",
       "    .dataframe tbody tr th:only-of-type {\n",
       "        vertical-align: middle;\n",
       "    }\n",
       "\n",
       "    .dataframe tbody tr th {\n",
       "        vertical-align: top;\n",
       "    }\n",
       "\n",
       "    .dataframe thead th {\n",
       "        text-align: right;\n",
       "    }\n",
       "</style>\n",
       "<table border=\"1\" class=\"dataframe\">\n",
       "  <thead>\n",
       "    <tr style=\"text-align: right;\">\n",
       "      <th></th>\n",
       "      <th>Id</th>\n",
       "      <th>label</th>\n",
       "      <th>filename</th>\n",
       "    </tr>\n",
       "  </thead>\n",
       "  <tbody>\n",
       "    <tr>\n",
       "      <th>0</th>\n",
       "      <td>0560</td>\n",
       "      <td>glass</td>\n",
       "      <td>0560.jpg</td>\n",
       "    </tr>\n",
       "    <tr>\n",
       "      <th>1</th>\n",
       "      <td>4675</td>\n",
       "      <td>cup</td>\n",
       "      <td>4675.jpg</td>\n",
       "    </tr>\n",
       "    <tr>\n",
       "      <th>2</th>\n",
       "      <td>0875</td>\n",
       "      <td>glass</td>\n",
       "      <td>0875.jpg</td>\n",
       "    </tr>\n",
       "    <tr>\n",
       "      <th>3</th>\n",
       "      <td>4436</td>\n",
       "      <td>spoon</td>\n",
       "      <td>4436.jpg</td>\n",
       "    </tr>\n",
       "    <tr>\n",
       "      <th>4</th>\n",
       "      <td>8265</td>\n",
       "      <td>plate</td>\n",
       "      <td>8265.jpg</td>\n",
       "    </tr>\n",
       "  </tbody>\n",
       "</table>\n",
       "</div>"
      ],
      "text/plain": [
       "     Id  label  filename\n",
       "0  0560  glass  0560.jpg\n",
       "1  4675    cup  4675.jpg\n",
       "2  0875  glass  0875.jpg\n",
       "3  4436  spoon  4436.jpg\n",
       "4  8265  plate  8265.jpg"
      ]
     },
     "execution_count": 3,
     "metadata": {},
     "output_type": "execute_result"
    }
   ],
   "source": [
    "df.head()"
   ]
  },
  {
   "cell_type": "code",
   "execution_count": 4,
   "id": "640e75c2",
   "metadata": {
    "execution": {
     "iopub.execute_input": "2023-01-31T23:23:30.715219Z",
     "iopub.status.busy": "2023-01-31T23:23:30.714348Z",
     "iopub.status.idle": "2023-01-31T23:23:30.735127Z",
     "shell.execute_reply": "2023-01-31T23:23:30.733892Z"
    },
    "papermill": {
     "duration": 0.03616,
     "end_time": "2023-01-31T23:23:30.739366",
     "exception": false,
     "start_time": "2023-01-31T23:23:30.703206",
     "status": "completed"
    },
    "tags": []
   },
   "outputs": [
    {
     "name": "stdout",
     "output_type": "stream",
     "text": [
      "<class 'pandas.core.frame.DataFrame'>\n",
      "RangeIndex: 5559 entries, 0 to 5558\n",
      "Data columns (total 3 columns):\n",
      " #   Column    Non-Null Count  Dtype \n",
      "---  ------    --------------  ----- \n",
      " 0   Id        5559 non-null   object\n",
      " 1   label     5559 non-null   object\n",
      " 2   filename  5559 non-null   object\n",
      "dtypes: object(3)\n",
      "memory usage: 130.4+ KB\n"
     ]
    }
   ],
   "source": [
    "df.info()"
   ]
  },
  {
   "cell_type": "code",
   "execution_count": 5,
   "id": "32b1e5ab",
   "metadata": {
    "execution": {
     "iopub.execute_input": "2023-01-31T23:23:30.761821Z",
     "iopub.status.busy": "2023-01-31T23:23:30.761123Z",
     "iopub.status.idle": "2023-01-31T23:23:30.776454Z",
     "shell.execute_reply": "2023-01-31T23:23:30.774098Z"
    },
    "papermill": {
     "duration": 0.030159,
     "end_time": "2023-01-31T23:23:30.779890",
     "exception": false,
     "start_time": "2023-01-31T23:23:30.749731",
     "status": "completed"
    },
    "tags": []
   },
   "outputs": [
    {
     "name": "stdout",
     "output_type": "stream",
     "text": [
      "<class 'pandas.core.frame.DataFrame'>\n",
      "RangeIndex: 3808 entries, 0 to 3807\n",
      "Data columns (total 2 columns):\n",
      " #   Column    Non-Null Count  Dtype \n",
      "---  ------    --------------  ----- \n",
      " 0   Id        3808 non-null   object\n",
      " 1   filename  3808 non-null   object\n",
      "dtypes: object(2)\n",
      "memory usage: 59.6+ KB\n"
     ]
    }
   ],
   "source": [
    "df_test_competition.info()"
   ]
  },
  {
   "cell_type": "code",
   "execution_count": 6,
   "id": "2e62e3d3",
   "metadata": {
    "execution": {
     "iopub.execute_input": "2023-01-31T23:23:30.803674Z",
     "iopub.status.busy": "2023-01-31T23:23:30.802604Z",
     "iopub.status.idle": "2023-01-31T23:23:30.813813Z",
     "shell.execute_reply": "2023-01-31T23:23:30.812522Z"
    },
    "papermill": {
     "duration": 0.025172,
     "end_time": "2023-01-31T23:23:30.816051",
     "exception": false,
     "start_time": "2023-01-31T23:23:30.790879",
     "status": "completed"
    },
    "tags": []
   },
   "outputs": [
    {
     "data": {
      "text/html": [
       "<div>\n",
       "<style scoped>\n",
       "    .dataframe tbody tr th:only-of-type {\n",
       "        vertical-align: middle;\n",
       "    }\n",
       "\n",
       "    .dataframe tbody tr th {\n",
       "        vertical-align: top;\n",
       "    }\n",
       "\n",
       "    .dataframe thead th {\n",
       "        text-align: right;\n",
       "    }\n",
       "</style>\n",
       "<table border=\"1\" class=\"dataframe\">\n",
       "  <thead>\n",
       "    <tr style=\"text-align: right;\">\n",
       "      <th></th>\n",
       "      <th>Id</th>\n",
       "      <th>filename</th>\n",
       "    </tr>\n",
       "  </thead>\n",
       "  <tbody>\n",
       "    <tr>\n",
       "      <th>0</th>\n",
       "      <td>0678</td>\n",
       "      <td>0678.jpg</td>\n",
       "    </tr>\n",
       "    <tr>\n",
       "      <th>1</th>\n",
       "      <td>3962</td>\n",
       "      <td>3962.jpg</td>\n",
       "    </tr>\n",
       "    <tr>\n",
       "      <th>2</th>\n",
       "      <td>9271</td>\n",
       "      <td>9271.jpg</td>\n",
       "    </tr>\n",
       "    <tr>\n",
       "      <th>3</th>\n",
       "      <td>5133</td>\n",
       "      <td>5133.jpg</td>\n",
       "    </tr>\n",
       "    <tr>\n",
       "      <th>4</th>\n",
       "      <td>8842</td>\n",
       "      <td>8842.jpg</td>\n",
       "    </tr>\n",
       "  </tbody>\n",
       "</table>\n",
       "</div>"
      ],
      "text/plain": [
       "     Id  filename\n",
       "0  0678  0678.jpg\n",
       "1  3962  3962.jpg\n",
       "2  9271  9271.jpg\n",
       "3  5133  5133.jpg\n",
       "4  8842  8842.jpg"
      ]
     },
     "execution_count": 6,
     "metadata": {},
     "output_type": "execute_result"
    }
   ],
   "source": [
    "df_test_competition.head()"
   ]
  },
  {
   "cell_type": "code",
   "execution_count": 7,
   "id": "1558ca8d",
   "metadata": {
    "execution": {
     "iopub.execute_input": "2023-01-31T23:23:30.838461Z",
     "iopub.status.busy": "2023-01-31T23:23:30.837386Z",
     "iopub.status.idle": "2023-01-31T23:23:30.850919Z",
     "shell.execute_reply": "2023-01-31T23:23:30.848931Z"
    },
    "papermill": {
     "duration": 0.027249,
     "end_time": "2023-01-31T23:23:30.853276",
     "exception": false,
     "start_time": "2023-01-31T23:23:30.826027",
     "status": "completed"
    },
    "tags": []
   },
   "outputs": [
    {
     "name": "stdout",
     "output_type": "stream",
     "text": [
      "<class 'pandas.core.frame.DataFrame'>\n",
      "RangeIndex: 3808 entries, 0 to 3807\n",
      "Data columns (total 2 columns):\n",
      " #   Column    Non-Null Count  Dtype \n",
      "---  ------    --------------  ----- \n",
      " 0   Id        3808 non-null   object\n",
      " 1   filename  3808 non-null   object\n",
      "dtypes: object(2)\n",
      "memory usage: 59.6+ KB\n"
     ]
    }
   ],
   "source": [
    "df_test_competition.info()"
   ]
  },
  {
   "cell_type": "code",
   "execution_count": 8,
   "id": "b16a1f54",
   "metadata": {
    "execution": {
     "iopub.execute_input": "2023-01-31T23:23:30.876417Z",
     "iopub.status.busy": "2023-01-31T23:23:30.875309Z",
     "iopub.status.idle": "2023-01-31T23:23:30.886457Z",
     "shell.execute_reply": "2023-01-31T23:23:30.885355Z"
    },
    "papermill": {
     "duration": 0.024986,
     "end_time": "2023-01-31T23:23:30.888740",
     "exception": false,
     "start_time": "2023-01-31T23:23:30.863754",
     "status": "completed"
    },
    "tags": []
   },
   "outputs": [
    {
     "data": {
      "text/html": [
       "<div>\n",
       "<style scoped>\n",
       "    .dataframe tbody tr th:only-of-type {\n",
       "        vertical-align: middle;\n",
       "    }\n",
       "\n",
       "    .dataframe tbody tr th {\n",
       "        vertical-align: top;\n",
       "    }\n",
       "\n",
       "    .dataframe thead th {\n",
       "        text-align: right;\n",
       "    }\n",
       "</style>\n",
       "<table border=\"1\" class=\"dataframe\">\n",
       "  <thead>\n",
       "    <tr style=\"text-align: right;\">\n",
       "      <th></th>\n",
       "      <th>Id</th>\n",
       "      <th>label</th>\n",
       "    </tr>\n",
       "  </thead>\n",
       "  <tbody>\n",
       "    <tr>\n",
       "      <th>0</th>\n",
       "      <td>0678</td>\n",
       "      <td>spoon</td>\n",
       "    </tr>\n",
       "    <tr>\n",
       "      <th>1</th>\n",
       "      <td>3962</td>\n",
       "      <td>glass</td>\n",
       "    </tr>\n",
       "    <tr>\n",
       "      <th>2</th>\n",
       "      <td>9271</td>\n",
       "      <td>spoon</td>\n",
       "    </tr>\n",
       "    <tr>\n",
       "      <th>3</th>\n",
       "      <td>5133</td>\n",
       "      <td>plate</td>\n",
       "    </tr>\n",
       "    <tr>\n",
       "      <th>4</th>\n",
       "      <td>8842</td>\n",
       "      <td>spoon</td>\n",
       "    </tr>\n",
       "  </tbody>\n",
       "</table>\n",
       "</div>"
      ],
      "text/plain": [
       "     Id  label\n",
       "0  0678  spoon\n",
       "1  3962  glass\n",
       "2  9271  spoon\n",
       "3  5133  plate\n",
       "4  8842  spoon"
      ]
     },
     "execution_count": 8,
     "metadata": {},
     "output_type": "execute_result"
    }
   ],
   "source": [
    "df_submission.head()"
   ]
  },
  {
   "cell_type": "code",
   "execution_count": 9,
   "id": "3b144efa",
   "metadata": {
    "execution": {
     "iopub.execute_input": "2023-01-31T23:23:30.911608Z",
     "iopub.status.busy": "2023-01-31T23:23:30.911204Z",
     "iopub.status.idle": "2023-01-31T23:23:30.925008Z",
     "shell.execute_reply": "2023-01-31T23:23:30.922914Z"
    },
    "papermill": {
     "duration": 0.028149,
     "end_time": "2023-01-31T23:23:30.927481",
     "exception": false,
     "start_time": "2023-01-31T23:23:30.899332",
     "status": "completed"
    },
    "tags": []
   },
   "outputs": [
    {
     "name": "stdout",
     "output_type": "stream",
     "text": [
      "<class 'pandas.core.frame.DataFrame'>\n",
      "RangeIndex: 3808 entries, 0 to 3807\n",
      "Data columns (total 2 columns):\n",
      " #   Column  Non-Null Count  Dtype \n",
      "---  ------  --------------  ----- \n",
      " 0   Id      3808 non-null   object\n",
      " 1   label   3808 non-null   object\n",
      "dtypes: object(2)\n",
      "memory usage: 59.6+ KB\n"
     ]
    }
   ],
   "source": [
    "df_submission.info()"
   ]
  },
  {
   "cell_type": "markdown",
   "id": "0368f553",
   "metadata": {
    "papermill": {
     "duration": 0.010588,
     "end_time": "2023-01-31T23:23:30.949206",
     "exception": false,
     "start_time": "2023-01-31T23:23:30.938618",
     "status": "completed"
    },
    "tags": []
   },
   "source": [
    "# Split Data to Train, Validation and Test Data\n",
    "- %60 Train\n",
    "- %20 Validation\n",
    "- %20 Test \n",
    "\n",
    "First we will split data and create simple model and evaluate."
   ]
  },
  {
   "cell_type": "code",
   "execution_count": 10,
   "id": "97e972b0",
   "metadata": {
    "execution": {
     "iopub.execute_input": "2023-01-31T23:23:30.973001Z",
     "iopub.status.busy": "2023-01-31T23:23:30.971815Z",
     "iopub.status.idle": "2023-01-31T23:23:30.981977Z",
     "shell.execute_reply": "2023-01-31T23:23:30.980917Z"
    },
    "papermill": {
     "duration": 0.024572,
     "end_time": "2023-01-31T23:23:30.984387",
     "exception": false,
     "start_time": "2023-01-31T23:23:30.959815",
     "status": "completed"
    },
    "tags": []
   },
   "outputs": [],
   "source": [
    "# train and test data\n",
    "df_train, df_test = train_test_split(df, test_size=0.1, random_state=42)\n",
    "\n",
    "# split train to train and validation\n",
    "df_train, df_val = train_test_split(df_train, test_size=0.1, random_state=42)"
   ]
  },
  {
   "cell_type": "code",
   "execution_count": 11,
   "id": "92817770",
   "metadata": {
    "execution": {
     "iopub.execute_input": "2023-01-31T23:23:31.008037Z",
     "iopub.status.busy": "2023-01-31T23:23:31.006915Z",
     "iopub.status.idle": "2023-01-31T23:23:31.014668Z",
     "shell.execute_reply": "2023-01-31T23:23:31.013591Z"
    },
    "papermill": {
     "duration": 0.021933,
     "end_time": "2023-01-31T23:23:31.017030",
     "exception": false,
     "start_time": "2023-01-31T23:23:30.995097",
     "status": "completed"
    },
    "tags": []
   },
   "outputs": [
    {
     "data": {
      "text/plain": [
       "{'Train:': 4502, 'Validation': 501, 'Test': 556}"
      ]
     },
     "execution_count": 11,
     "metadata": {},
     "output_type": "execute_result"
    }
   ],
   "source": [
    "len_of_df = {\"Train:\": len(df_train), \"Validation\": len(df_val), \"Test\": len(df_test)}\n",
    "\n",
    "len_of_df"
   ]
  },
  {
   "cell_type": "code",
   "execution_count": 12,
   "id": "557d3840",
   "metadata": {
    "execution": {
     "iopub.execute_input": "2023-01-31T23:23:31.040425Z",
     "iopub.status.busy": "2023-01-31T23:23:31.039463Z",
     "iopub.status.idle": "2023-01-31T23:23:31.046717Z",
     "shell.execute_reply": "2023-01-31T23:23:31.045603Z"
    },
    "papermill": {
     "duration": 0.021406,
     "end_time": "2023-01-31T23:23:31.048892",
     "exception": false,
     "start_time": "2023-01-31T23:23:31.027486",
     "status": "completed"
    },
    "tags": []
   },
   "outputs": [
    {
     "data": {
      "text/plain": [
       "dict_values([4502, 501, 556])"
      ]
     },
     "execution_count": 12,
     "metadata": {},
     "output_type": "execute_result"
    }
   ],
   "source": [
    "len_of_df.values()"
   ]
  },
  {
   "cell_type": "code",
   "execution_count": 13,
   "id": "658e8bce",
   "metadata": {
    "execution": {
     "iopub.execute_input": "2023-01-31T23:23:31.071726Z",
     "iopub.status.busy": "2023-01-31T23:23:31.070786Z",
     "iopub.status.idle": "2023-01-31T23:23:31.077830Z",
     "shell.execute_reply": "2023-01-31T23:23:31.076696Z"
    },
    "papermill": {
     "duration": 0.020584,
     "end_time": "2023-01-31T23:23:31.079892",
     "exception": false,
     "start_time": "2023-01-31T23:23:31.059308",
     "status": "completed"
    },
    "tags": []
   },
   "outputs": [
    {
     "data": {
      "text/plain": [
       "dict_keys(['Train:', 'Validation', 'Test'])"
      ]
     },
     "execution_count": 13,
     "metadata": {},
     "output_type": "execute_result"
    }
   ],
   "source": [
    "len_of_df.keys()"
   ]
  },
  {
   "cell_type": "code",
   "execution_count": 14,
   "id": "cbdf6e6c",
   "metadata": {
    "execution": {
     "iopub.execute_input": "2023-01-31T23:23:31.103832Z",
     "iopub.status.busy": "2023-01-31T23:23:31.102791Z",
     "iopub.status.idle": "2023-01-31T23:23:31.110561Z",
     "shell.execute_reply": "2023-01-31T23:23:31.109579Z"
    },
    "papermill": {
     "duration": 0.02229,
     "end_time": "2023-01-31T23:23:31.112870",
     "exception": false,
     "start_time": "2023-01-31T23:23:31.090580",
     "status": "completed"
    },
    "tags": []
   },
   "outputs": [],
   "source": [
    "def plot_percent_pie(df):\n",
    "    \"\"\" plot percent of give dataframes\n",
    "    Note that If we give numbers of df other than 3, it will give us an error.\n",
    "    \n",
    "    Args:\n",
    "        len_of_df: a dictionary contains names and length of dataframes\n",
    "    \"\"\"\n",
    "    colors = [\"#645CBB\",\"#A084DC\", \"#BFACE2\"]\n",
    "    explode = [0, 0.05, 0.05]\n",
    "    \n",
    "    classes = df.keys()\n",
    "    numbers = df.values()\n",
    "    \n",
    "    print(df)\n",
    "    \n",
    "    plt.figure(figsize = (5,5))\n",
    "    plt.pie(numbers, explode=explode, labels=classes, colors=colors, autopct='%1.1f%%')\n",
    "    plt.title(\"Rates of Dataset Lengths\", color = 'blue',fontsize = 14)"
   ]
  },
  {
   "cell_type": "code",
   "execution_count": 15,
   "id": "a8517dad",
   "metadata": {
    "execution": {
     "iopub.execute_input": "2023-01-31T23:23:31.136253Z",
     "iopub.status.busy": "2023-01-31T23:23:31.135188Z",
     "iopub.status.idle": "2023-01-31T23:23:31.303372Z",
     "shell.execute_reply": "2023-01-31T23:23:31.301753Z"
    },
    "papermill": {
     "duration": 0.184208,
     "end_time": "2023-01-31T23:23:31.307735",
     "exception": false,
     "start_time": "2023-01-31T23:23:31.123527",
     "status": "completed"
    },
    "tags": []
   },
   "outputs": [
    {
     "name": "stdout",
     "output_type": "stream",
     "text": [
      "{'Train:': 4502, 'Validation': 501, 'Test': 556}\n"
     ]
    },
    {
     "data": {
      "image/png": "[encoded data removed]",
      "text/plain": [
       "<Figure size 360x360 with 1 Axes>"
      ]
     },
     "metadata": {},
     "output_type": "display_data"
    }
   ],
   "source": [
    "plot_percent_pie(len_of_df)"
   ]
  },
  {
   "cell_type": "markdown",
   "id": "3733abb9",
   "metadata": {
    "papermill": {
     "duration": 0.030652,
     "end_time": "2023-01-31T23:23:31.369548",
     "exception": false,
     "start_time": "2023-01-31T23:23:31.338896",
     "status": "completed"
    },
    "tags": []
   },
   "source": [
    "# Load Data - Preprocessing"
   ]
  },
  {
   "cell_type": "code",
   "execution_count": 16,
   "id": "24601a3b",
   "metadata": {
    "execution": {
     "iopub.execute_input": "2023-01-31T23:23:31.396580Z",
     "iopub.status.busy": "2023-01-31T23:23:31.396057Z",
     "iopub.status.idle": "2023-01-31T23:23:31.412458Z",
     "shell.execute_reply": "2023-01-31T23:23:31.411248Z"
    },
    "papermill": {
     "duration": 0.032819,
     "end_time": "2023-01-31T23:23:31.414847",
     "exception": false,
     "start_time": "2023-01-31T23:23:31.382028",
     "status": "completed"
    },
    "tags": []
   },
   "outputs": [
    {
     "data": {
      "text/html": [
       "<div>\n",
       "<style scoped>\n",
       "    .dataframe tbody tr th:only-of-type {\n",
       "        vertical-align: middle;\n",
       "    }\n",
       "\n",
       "    .dataframe tbody tr th {\n",
       "        vertical-align: top;\n",
       "    }\n",
       "\n",
       "    .dataframe thead th {\n",
       "        text-align: right;\n",
       "    }\n",
       "</style>\n",
       "<table border=\"1\" class=\"dataframe\">\n",
       "  <thead>\n",
       "    <tr style=\"text-align: right;\">\n",
       "      <th></th>\n",
       "      <th>Id</th>\n",
       "      <th>label</th>\n",
       "      <th>filename</th>\n",
       "    </tr>\n",
       "  </thead>\n",
       "  <tbody>\n",
       "    <tr>\n",
       "      <th>5213</th>\n",
       "      <td>3877</td>\n",
       "      <td>cup</td>\n",
       "      <td>3877.jpg</td>\n",
       "    </tr>\n",
       "    <tr>\n",
       "      <th>224</th>\n",
       "      <td>1988</td>\n",
       "      <td>fork</td>\n",
       "      <td>1988.jpg</td>\n",
       "    </tr>\n",
       "    <tr>\n",
       "      <th>3673</th>\n",
       "      <td>6755</td>\n",
       "      <td>spoon</td>\n",
       "      <td>6755.jpg</td>\n",
       "    </tr>\n",
       "    <tr>\n",
       "      <th>4402</th>\n",
       "      <td>8789</td>\n",
       "      <td>glass</td>\n",
       "      <td>8789.jpg</td>\n",
       "    </tr>\n",
       "    <tr>\n",
       "      <th>3811</th>\n",
       "      <td>3746</td>\n",
       "      <td>knife</td>\n",
       "      <td>3746.jpg</td>\n",
       "    </tr>\n",
       "    <tr>\n",
       "      <th>...</th>\n",
       "      <td>...</td>\n",
       "      <td>...</td>\n",
       "      <td>...</td>\n",
       "    </tr>\n",
       "    <tr>\n",
       "      <th>4134</th>\n",
       "      <td>6290</td>\n",
       "      <td>glass</td>\n",
       "      <td>6290.jpg</td>\n",
       "    </tr>\n",
       "    <tr>\n",
       "      <th>1319</th>\n",
       "      <td>5057</td>\n",
       "      <td>spoon</td>\n",
       "      <td>5057.jpg</td>\n",
       "    </tr>\n",
       "    <tr>\n",
       "      <th>850</th>\n",
       "      <td>6103</td>\n",
       "      <td>plate</td>\n",
       "      <td>6103.jpg</td>\n",
       "    </tr>\n",
       "    <tr>\n",
       "      <th>4506</th>\n",
       "      <td>6394</td>\n",
       "      <td>plate</td>\n",
       "      <td>6394.jpg</td>\n",
       "    </tr>\n",
       "    <tr>\n",
       "      <th>3967</th>\n",
       "      <td>6878</td>\n",
       "      <td>spoon</td>\n",
       "      <td>6878.jpg</td>\n",
       "    </tr>\n",
       "  </tbody>\n",
       "</table>\n",
       "<p>4502 rows × 3 columns</p>\n",
       "</div>"
      ],
      "text/plain": [
       "        Id  label  filename\n",
       "5213  3877    cup  3877.jpg\n",
       "224   1988   fork  1988.jpg\n",
       "3673  6755  spoon  6755.jpg\n",
       "4402  8789  glass  8789.jpg\n",
       "3811  3746  knife  3746.jpg\n",
       "...    ...    ...       ...\n",
       "4134  6290  glass  6290.jpg\n",
       "1319  5057  spoon  5057.jpg\n",
       "850   6103  plate  6103.jpg\n",
       "4506  6394  plate  6394.jpg\n",
       "3967  6878  spoon  6878.jpg\n",
       "\n",
       "[4502 rows x 3 columns]"
      ]
     },
     "execution_count": 16,
     "metadata": {},
     "output_type": "execute_result"
    }
   ],
   "source": [
    "df_train"
   ]
  },
  {
   "cell_type": "markdown",
   "id": "dc1ae078",
   "metadata": {
    "papermill": {
     "duration": 0.011026,
     "end_time": "2023-01-31T23:23:31.437978",
     "exception": false,
     "start_time": "2023-01-31T23:23:31.426952",
     "status": "completed"
    },
    "tags": []
   },
   "source": [
    "# Train Simple Model"
   ]
  },
  {
   "cell_type": "code",
   "execution_count": 17,
   "id": "85bb11f5",
   "metadata": {
    "execution": {
     "iopub.execute_input": "2023-01-31T23:23:31.462887Z",
     "iopub.status.busy": "2023-01-31T23:23:31.462489Z",
     "iopub.status.idle": "2023-01-31T23:23:43.872804Z",
     "shell.execute_reply": "2023-01-31T23:23:43.871177Z"
    },
    "papermill": {
     "duration": 12.425709,
     "end_time": "2023-01-31T23:23:43.875210",
     "exception": false,
     "start_time": "2023-01-31T23:23:31.449501",
     "status": "completed"
    },
    "tags": []
   },
   "outputs": [
    {
     "name": "stdout",
     "output_type": "stream",
     "text": [
      "Found 4502 validated image filenames belonging to 6 classes.\n",
      "Found 501 validated image filenames belonging to 6 classes.\n",
      "Found 556 validated image filenames belonging to 6 classes.\n",
      "Found 3808 validated image filenames.\n"
     ]
    }
   ],
   "source": [
    "width = 224\n",
    "height = 224\n",
    "\n",
    "number = 128\n",
    "batch_size = number\n",
    "val_batch_size = number\n",
    "test_batch_size = number\n",
    "\n",
    "epochs = 10\n",
    "\n",
    "input_size = (width, height)\n",
    "input_shape = (width, height, 3)\n",
    "\n",
    "train_datagen = ImageDataGenerator(shear_range=10,\n",
    "                                   zoom_range=0.1,\n",
    "                                   horizontal_flip=True,\n",
    "                                   width_shift_range=0.1,\n",
    "                                   height_shift_range=0.1)\n",
    "\n",
    "val_datagen = ImageDataGenerator()\n",
    "test_datagen = ImageDataGenerator()\n",
    "\n",
    "# column names for input and oupt\n",
    "x_col = \"filename\"\n",
    "y_col = \"label\"\n",
    "\n",
    "train_generator = train_datagen.flow_from_dataframe(dataframe=df_train,\n",
    "                                            directory=SUB_FOLDER_PATH,\n",
    "                                            x_col= x_col,\n",
    "                                            y_col= y_col,\n",
    "                                            batch_size=batch_size,\n",
    "                                            seed=42,\n",
    "                                            shuffle=True,\n",
    "                                            class_mode=\"categorical\",\n",
    "                                            target_size=input_size)\n",
    "\n",
    "validation_generator = val_datagen.flow_from_dataframe(dataframe=df_val,\n",
    "                                            directory=SUB_FOLDER_PATH,\n",
    "                                            x_col= x_col,\n",
    "                                            y_col= y_col,\n",
    "                                            batch_size=val_batch_size,\n",
    "                                            seed=42,\n",
    "                                            shuffle=True,\n",
    "                                            class_mode=\"categorical\",\n",
    "                                            target_size=input_size)\n",
    "\n",
    "test_generator = test_datagen.flow_from_dataframe(dataframe=df_test,\n",
    "                                            directory=SUB_FOLDER_PATH,\n",
    "                                            x_col= x_col,\n",
    "                                            y_col= y_col,\n",
    "                                            batch_size=test_batch_size,\n",
    "                                            seed=42,\n",
    "                                            shuffle=False,\n",
    "                                            class_mode=\"categorical\",\n",
    "                                            target_size=input_size)\n",
    "\n",
    "submit_gen = ImageDataGenerator()\n",
    "submit_generator = submit_gen.flow_from_dataframe(dataframe=df_test_competition,\n",
    "                                                  directory=SUB_FOLDER_PATH,\n",
    "                                                  x_col= x_col,\n",
    "                                                  batch_size=test_batch_size,\n",
    "                                                  seed=42,\n",
    "                                                  shuffle=False,\n",
    "                                                  class_mode=None,\n",
    "                                                  target_size=input_size)"
   ]
  },
  {
   "cell_type": "code",
   "execution_count": 18,
   "id": "9e5bede1",
   "metadata": {
    "execution": {
     "iopub.execute_input": "2023-01-31T23:23:43.900675Z",
     "iopub.status.busy": "2023-01-31T23:23:43.899012Z",
     "iopub.status.idle": "2023-01-31T23:23:51.943139Z",
     "shell.execute_reply": "2023-01-31T23:23:51.942034Z"
    },
    "papermill": {
     "duration": 8.05945,
     "end_time": "2023-01-31T23:23:51.946321",
     "exception": false,
     "start_time": "2023-01-31T23:23:43.886871",
     "status": "completed"
    },
    "tags": []
   },
   "outputs": [
    {
     "name": "stderr",
     "output_type": "stream",
     "text": [
      "2023-01-31 23:23:44.013567: I tensorflow/stream_executor/cuda/cuda_gpu_executor.cc:937] successful NUMA node read from SysFS had negative value (-1), but there must be at least one NUMA node, so returning NUMA node zero\n",
      "2023-01-31 23:23:44.109349: I tensorflow/stream_executor/cuda/cuda_gpu_executor.cc:937] successful NUMA node read from SysFS had negative value (-1), but there must be at least one NUMA node, so returning NUMA node zero\n",
      "2023-01-31 23:23:44.110401: I tensorflow/stream_executor/cuda/cuda_gpu_executor.cc:937] successful NUMA node read from SysFS had negative value (-1), but there must be at least one NUMA node, so returning NUMA node zero\n",
      "2023-01-31 23:23:44.112899: I tensorflow/core/platform/cpu_feature_guard.cc:142] This TensorFlow binary is optimized with oneAPI Deep Neural Network Library (oneDNN) to use the following CPU instructions in performance-critical operations:  AVX2 AVX512F FMA\n",
      "To enable them in other operations, rebuild TensorFlow with the appropriate compiler flags.\n",
      "2023-01-31 23:23:44.113327: I tensorflow/stream_executor/cuda/cuda_gpu_executor.cc:937] successful NUMA node read from SysFS had negative value (-1), but there must be at least one NUMA node, so returning NUMA node zero\n",
      "2023-01-31 23:23:44.114139: I tensorflow/stream_executor/cuda/cuda_gpu_executor.cc:937] successful NUMA node read from SysFS had negative value (-1), but there must be at least one NUMA node, so returning NUMA node zero\n",
      "2023-01-31 23:23:44.114906: I tensorflow/stream_executor/cuda/cuda_gpu_executor.cc:937] successful NUMA node read from SysFS had negative value (-1), but there must be at least one NUMA node, so returning NUMA node zero\n",
      "2023-01-31 23:23:46.357749: I tensorflow/stream_executor/cuda/cuda_gpu_executor.cc:937] successful NUMA node read from SysFS had negative value (-1), but there must be at least one NUMA node, so returning NUMA node zero\n",
      "2023-01-31 23:23:46.358711: I tensorflow/stream_executor/cuda/cuda_gpu_executor.cc:937] successful NUMA node read from SysFS had negative value (-1), but there must be at least one NUMA node, so returning NUMA node zero\n",
      "2023-01-31 23:23:46.359456: I tensorflow/stream_executor/cuda/cuda_gpu_executor.cc:937] successful NUMA node read from SysFS had negative value (-1), but there must be at least one NUMA node, so returning NUMA node zero\n",
      "2023-01-31 23:23:46.360109: I tensorflow/core/common_runtime/gpu/gpu_device.cc:1510] Created device /job:localhost/replica:0/task:0/device:GPU:0 with 15401 MB memory:  -> device: 0, name: Tesla P100-PCIE-16GB, pci bus id: 0000:00:04.0, compute capability: 6.0\n"
     ]
    },
    {
     "name": "stdout",
     "output_type": "stream",
     "text": [
      "Downloading data from https://storage.googleapis.com/tensorflow/keras-applications/resnet/resnet50_weights_tf_dim_ordering_tf_kernels_notop.h5\n",
      "94773248/94765736 [==============================] - 4s 0us/step\n",
      "94781440/94765736 [==============================] - 4s 0us/step\n"
     ]
    }
   ],
   "source": [
    "resnet50 = tf.keras.applications.resnet50.ResNet50(include_top=False,\n",
    "                                                   weights='imagenet',\n",
    "                                                   input_shape=input_shape,\n",
    "                                                   pooling=None)\n",
    "\n",
    "resnet50.trainable = False"
   ]
  },
  {
   "cell_type": "code",
   "execution_count": 19,
   "id": "f51bd257",
   "metadata": {
    "execution": {
     "iopub.execute_input": "2023-01-31T23:23:51.978970Z",
     "iopub.status.busy": "2023-01-31T23:23:51.978599Z",
     "iopub.status.idle": "2023-01-31T23:23:51.986332Z",
     "shell.execute_reply": "2023-01-31T23:23:51.985219Z"
    },
    "papermill": {
     "duration": 0.026383,
     "end_time": "2023-01-31T23:23:51.988694",
     "exception": false,
     "start_time": "2023-01-31T23:23:51.962311",
     "status": "completed"
    },
    "tags": []
   },
   "outputs": [],
   "source": [
    "def build_model(input_shape=input_shape):\n",
    "\n",
    "    inputs = keras.Input(shape=input_shape)\n",
    "    x = tf.keras.applications.resnet50.preprocess_input(inputs)\n",
    "    x = resnet50(x)\n",
    "    x = layers.Flatten()(x)\n",
    "    \n",
    "    x = layers.Dense(64, activation=\"relu\")(x)\n",
    "    x = layers.BatchNormalization()(x)\n",
    "    drop = keras.layers.Dropout(0.1)(x)\n",
    "    outputs = layers.Dense(6, activation=\"softmax\")(drop)\n",
    "    \n",
    "    model = keras.Model(inputs=inputs, outputs=outputs)\n",
    "    learning_rate = 0.001\n",
    "    optimizer = keras.optimizers.Adam(learning_rate=learning_rate)\n",
    "    model.compile(loss=\"categorical_crossentropy\", optimizer=optimizer, metrics=[\"accuracy\"])\n",
    "    \n",
    "    return model"
   ]
  },
  {
   "cell_type": "code",
   "execution_count": 20,
   "id": "a1167bb9",
   "metadata": {
    "execution": {
     "iopub.execute_input": "2023-01-31T23:23:52.020461Z",
     "iopub.status.busy": "2023-01-31T23:23:52.018955Z",
     "iopub.status.idle": "2023-01-31T23:23:52.475636Z",
     "shell.execute_reply": "2023-01-31T23:23:52.473537Z"
    },
    "papermill": {
     "duration": 0.474519,
     "end_time": "2023-01-31T23:23:52.477891",
     "exception": false,
     "start_time": "2023-01-31T23:23:52.003372",
     "status": "completed"
    },
    "tags": []
   },
   "outputs": [
    {
     "name": "stdout",
     "output_type": "stream",
     "text": [
      "Model: \"model\"\n",
      "_________________________________________________________________\n",
      "Layer (type)                 Output Shape              Param #   \n",
      "=================================================================\n",
      "input_2 (InputLayer)         [(None, 224, 224, 3)]     0         \n",
      "_________________________________________________________________\n",
      "tf.__operators__.getitem (Sl (None, 224, 224, 3)       0         \n",
      "_________________________________________________________________\n",
      "tf.nn.bias_add (TFOpLambda)  (None, 224, 224, 3)       0         \n",
      "_________________________________________________________________\n",
      "resnet50 (Functional)        (None, 7, 7, 2048)        23587712  \n",
      "_________________________________________________________________\n",
      "flatten (Flatten)            (None, 100352)            0         \n",
      "_________________________________________________________________\n",
      "dense (Dense)                (None, 64)                6422592   \n",
      "_________________________________________________________________\n",
      "batch_normalization (BatchNo (None, 64)                256       \n",
      "_________________________________________________________________\n",
      "dropout (Dropout)            (None, 64)                0         \n",
      "_________________________________________________________________\n",
      "dense_1 (Dense)              (None, 6)                 390       \n",
      "=================================================================\n",
      "Total params: 30,010,950\n",
      "Trainable params: 6,423,110\n",
      "Non-trainable params: 23,587,840\n",
      "_________________________________________________________________\n"
     ]
    }
   ],
   "source": [
    "model = build_model(input_shape)\n",
    "model.summary()"
   ]
  },
  {
   "cell_type": "code",
   "execution_count": 21,
   "id": "8b60e001",
   "metadata": {
    "execution": {
     "iopub.execute_input": "2023-01-31T23:23:52.508965Z",
     "iopub.status.busy": "2023-01-31T23:23:52.508636Z",
     "iopub.status.idle": "2023-01-31T23:23:52.513971Z",
     "shell.execute_reply": "2023-01-31T23:23:52.512868Z"
    },
    "papermill": {
     "duration": 0.022947,
     "end_time": "2023-01-31T23:23:52.516158",
     "exception": false,
     "start_time": "2023-01-31T23:23:52.493211",
     "status": "completed"
    },
    "tags": []
   },
   "outputs": [],
   "source": [
    "callbacks_list = [keras.callbacks.EarlyStopping(monitor=\"val_accuracy\",\n",
    "                                                patience=30,),\n",
    "                 keras.callbacks.ModelCheckpoint(filepath=\"checkpoint_path.keras\",\n",
    "                                                  monitor=\"val_loss\",\n",
    "                                                  save_best_only=True,)]"
   ]
  },
  {
   "cell_type": "code",
   "execution_count": 22,
   "id": "f7a3f80e",
   "metadata": {
    "execution": {
     "iopub.execute_input": "2023-01-31T23:23:52.546943Z",
     "iopub.status.busy": "2023-01-31T23:23:52.546078Z",
     "iopub.status.idle": "2023-01-31T23:44:15.621909Z",
     "shell.execute_reply": "2023-01-31T23:44:15.620855Z"
    },
    "papermill": {
     "duration": 1223.093967,
     "end_time": "2023-01-31T23:44:15.624667",
     "exception": false,
     "start_time": "2023-01-31T23:23:52.530700",
     "status": "completed"
    },
    "tags": []
   },
   "outputs": [
    {
     "name": "stderr",
     "output_type": "stream",
     "text": [
      "2023-01-31 23:23:56.313736: I tensorflow/compiler/mlir/mlir_graph_optimization_pass.cc:185] None of the MLIR Optimization Passes are enabled (registered 2)\n"
     ]
    },
    {
     "name": "stdout",
     "output_type": "stream",
     "text": [
      "Epoch 1/10\n"
     ]
    },
    {
     "name": "stderr",
     "output_type": "stream",
     "text": [
      "2023-01-31 23:24:04.387228: I tensorflow/stream_executor/cuda/cuda_dnn.cc:369] Loaded cuDNN version 8005\n"
     ]
    },
    {
     "name": "stdout",
     "output_type": "stream",
     "text": [
      "36/36 [==============================] - 155s 4s/step - loss: 0.4013 - accuracy: 0.8625 - val_loss: 0.7787 - val_accuracy: 0.8623\n"
     ]
    },
    {
     "name": "stderr",
     "output_type": "stream",
     "text": [
      "/opt/conda/lib/python3.7/site-packages/keras/utils/generic_utils.py:497: CustomMaskWarning: Custom mask layers require a config and must override get_config. When loading, the custom mask layer must be passed to the custom_objects argument.\n",
      "  category=CustomMaskWarning)\n"
     ]
    },
    {
     "name": "stdout",
     "output_type": "stream",
     "text": [
      "Epoch 2/10\n",
      "36/36 [==============================] - 115s 3s/step - loss: 0.1746 - accuracy: 0.9445 - val_loss: 0.3413 - val_accuracy: 0.9022\n",
      "Epoch 3/10\n",
      "36/36 [==============================] - 111s 3s/step - loss: 0.1273 - accuracy: 0.9594 - val_loss: 0.3081 - val_accuracy: 0.9182\n",
      "Epoch 4/10\n",
      "36/36 [==============================] - 113s 3s/step - loss: 0.0898 - accuracy: 0.9749 - val_loss: 0.2642 - val_accuracy: 0.9281\n",
      "Epoch 5/10\n",
      "36/36 [==============================] - 116s 3s/step - loss: 0.0719 - accuracy: 0.9809 - val_loss: 0.2648 - val_accuracy: 0.9202\n",
      "Epoch 6/10\n",
      "36/36 [==============================] - 122s 3s/step - loss: 0.0598 - accuracy: 0.9822 - val_loss: 0.2583 - val_accuracy: 0.9242\n",
      "Epoch 7/10\n",
      "36/36 [==============================] - 118s 3s/step - loss: 0.0505 - accuracy: 0.9871 - val_loss: 0.2577 - val_accuracy: 0.9261\n",
      "Epoch 8/10\n",
      "36/36 [==============================] - 113s 3s/step - loss: 0.0449 - accuracy: 0.9873 - val_loss: 0.2568 - val_accuracy: 0.9301\n",
      "Epoch 9/10\n",
      "36/36 [==============================] - 111s 3s/step - loss: 0.0362 - accuracy: 0.9909 - val_loss: 0.2584 - val_accuracy: 0.9242\n",
      "Epoch 10/10\n",
      "36/36 [==============================] - 111s 3s/step - loss: 0.0266 - accuracy: 0.9929 - val_loss: 0.2871 - val_accuracy: 0.9242\n"
     ]
    }
   ],
   "source": [
    "train_generator.reset()\n",
    "validation_generator.reset()\n",
    "\n",
    "history = model.fit(train_generator,\n",
    "                    validation_data=validation_generator,\n",
    "                    epochs=epochs, \n",
    "                    callbacks=callbacks_list, \n",
    "                    batch_size=batch_size)"
   ]
  },
  {
   "cell_type": "markdown",
   "id": "ce361efe",
   "metadata": {
    "papermill": {
     "duration": 0.032278,
     "end_time": "2023-01-31T23:44:15.689888",
     "exception": false,
     "start_time": "2023-01-31T23:44:15.657610",
     "status": "completed"
    },
    "tags": []
   },
   "source": [
    "# Training Graphs"
   ]
  },
  {
   "cell_type": "code",
   "execution_count": 23,
   "id": "31988f4b",
   "metadata": {
    "execution": {
     "iopub.execute_input": "2023-01-31T23:44:15.757346Z",
     "iopub.status.busy": "2023-01-31T23:44:15.756939Z",
     "iopub.status.idle": "2023-01-31T23:44:16.164141Z",
     "shell.execute_reply": "2023-01-31T23:44:16.163210Z"
    },
    "papermill": {
     "duration": 0.44317,
     "end_time": "2023-01-31T23:44:16.166312",
     "exception": false,
     "start_time": "2023-01-31T23:44:15.723142",
     "status": "completed"
    },
    "tags": []
   },
   "outputs": [
    {
     "data": {
      "image/png": "[encoded data removed]",
      "text/plain": [
       "<Figure size 432x288 with 1 Axes>"
      ]
     },
     "metadata": {
      "needs_background": "light"
     },
     "output_type": "display_data"
    },
    {
     "data": {
      "image/png": "[encoded data removed]",
      "text/plain": [
       "<Figure size 432x288 with 1 Axes>"
      ]
     },
     "metadata": {
      "needs_background": "light"
     },
     "output_type": "display_data"
    }
   ],
   "source": [
    "acc = history.history['accuracy']\n",
    "val_acc = history.history['val_accuracy']\n",
    "loss = history.history['loss']\n",
    "val_loss = history.history['val_loss']\n",
    "\n",
    "epochs = range(len(acc))\n",
    "\n",
    "plt.plot(epochs, acc, 'bo', label='Training acc')\n",
    "plt.plot(epochs, val_acc, 'b', label='Validation acc')\n",
    "plt.title('Training and validation accuracy')\n",
    "plt.legend()\n",
    "\n",
    "plt.figure()\n",
    "\n",
    "plt.plot(epochs, loss, 'bo', label='Training loss')\n",
    "plt.plot(epochs, val_loss, 'b', label='Validation loss')\n",
    "plt.title('Training and validation loss')\n",
    "plt.legend()\n",
    "\n",
    "plt.show()"
   ]
  },
  {
   "cell_type": "markdown",
   "id": "42d31195",
   "metadata": {
    "papermill": {
     "duration": 0.032667,
     "end_time": "2023-01-31T23:44:16.232633",
     "exception": false,
     "start_time": "2023-01-31T23:44:16.199966",
     "status": "completed"
    },
    "tags": []
   },
   "source": [
    "# Reload the best model"
   ]
  },
  {
   "cell_type": "code",
   "execution_count": 24,
   "id": "a0114d5b",
   "metadata": {
    "execution": {
     "iopub.execute_input": "2023-01-31T23:44:16.300538Z",
     "iopub.status.busy": "2023-01-31T23:44:16.299523Z",
     "iopub.status.idle": "2023-01-31T23:44:17.961825Z",
     "shell.execute_reply": "2023-01-31T23:44:17.960782Z"
    },
    "papermill": {
     "duration": 1.699295,
     "end_time": "2023-01-31T23:44:17.964715",
     "exception": false,
     "start_time": "2023-01-31T23:44:16.265420",
     "status": "completed"
    },
    "tags": []
   },
   "outputs": [],
   "source": [
    "model = keras.models.load_model(\"checkpoint_path.keras\")"
   ]
  },
  {
   "cell_type": "markdown",
   "id": "afd57073",
   "metadata": {
    "papermill": {
     "duration": 0.033747,
     "end_time": "2023-01-31T23:44:18.032376",
     "exception": false,
     "start_time": "2023-01-31T23:44:17.998629",
     "status": "completed"
    },
    "tags": []
   },
   "source": [
    "# Save Model"
   ]
  },
  {
   "cell_type": "code",
   "execution_count": 25,
   "id": "ca8dc12f",
   "metadata": {
    "execution": {
     "iopub.execute_input": "2023-01-31T23:44:18.100718Z",
     "iopub.status.busy": "2023-01-31T23:44:18.100072Z",
     "iopub.status.idle": "2023-01-31T23:44:45.301541Z",
     "shell.execute_reply": "2023-01-31T23:44:45.300496Z"
    },
    "papermill": {
     "duration": 27.238847,
     "end_time": "2023-01-31T23:44:45.304422",
     "exception": false,
     "start_time": "2023-01-31T23:44:18.065575",
     "status": "completed"
    },
    "tags": []
   },
   "outputs": [
    {
     "name": "stderr",
     "output_type": "stream",
     "text": [
      "2023-01-31 23:44:28.515336: W tensorflow/python/util/util.cc:348] Sets are not currently considered sequences, but this may change in the future, so consider avoiding using them.\n",
      "/opt/conda/lib/python3.7/site-packages/keras/utils/generic_utils.py:497: CustomMaskWarning: Custom mask layers require a config and must override get_config. When loading, the custom mask layer must be passed to the custom_objects argument.\n",
      "  category=CustomMaskWarning)\n"
     ]
    }
   ],
   "source": [
    "MODEL_NAME = \"resnet_model\"\n",
    "model.save(MODEL_NAME)"
   ]
  },
  {
   "cell_type": "markdown",
   "id": "7a3beb1b",
   "metadata": {
    "papermill": {
     "duration": 0.033445,
     "end_time": "2023-01-31T23:44:45.372358",
     "exception": false,
     "start_time": "2023-01-31T23:44:45.338913",
     "status": "completed"
    },
    "tags": []
   },
   "source": [
    "# Accuracy on Test Set"
   ]
  },
  {
   "cell_type": "code",
   "execution_count": 26,
   "id": "f1c9ebc4",
   "metadata": {
    "execution": {
     "iopub.execute_input": "2023-01-31T23:44:45.450665Z",
     "iopub.status.busy": "2023-01-31T23:44:45.449960Z",
     "iopub.status.idle": "2023-01-31T23:45:08.845770Z",
     "shell.execute_reply": "2023-01-31T23:45:08.844727Z"
    },
    "papermill": {
     "duration": 23.442389,
     "end_time": "2023-01-31T23:45:08.848116",
     "exception": false,
     "start_time": "2023-01-31T23:44:45.405727",
     "status": "completed"
    },
    "tags": []
   },
   "outputs": [
    {
     "name": "stdout",
     "output_type": "stream",
     "text": [
      "5/5 [==============================] - 11s 2s/step - loss: 0.1558 - accuracy: 0.9424\n",
      "test_loss:  0.15575949847698212\n",
      "test_accuracy 0.9424460530281067\n"
     ]
    }
   ],
   "source": [
    "# evaluate\n",
    "test_loss, test_accuracy = model.evaluate(test_generator)\n",
    "print(\"test_loss: \", test_loss)\n",
    "print(\"test_accuracy\", test_accuracy)\n",
    "\n",
    "# predict\n",
    "test_generator.reset()\n",
    "test_pred = model.predict(test_generator)\n",
    "\n",
    "# Convert predictions classes to one hot vectors \n",
    "test_pred_classes = np.argmax(test_pred, axis = 1)"
   ]
  },
  {
   "cell_type": "code",
   "execution_count": 27,
   "id": "f719f22a",
   "metadata": {
    "execution": {
     "iopub.execute_input": "2023-01-31T23:45:08.917481Z",
     "iopub.status.busy": "2023-01-31T23:45:08.917119Z",
     "iopub.status.idle": "2023-01-31T23:45:09.257131Z",
     "shell.execute_reply": "2023-01-31T23:45:09.256183Z"
    },
    "papermill": {
     "duration": 0.376928,
     "end_time": "2023-01-31T23:45:09.259273",
     "exception": false,
     "start_time": "2023-01-31T23:45:08.882345",
     "status": "completed"
    },
    "tags": []
   },
   "outputs": [
    {
     "data": {
      "image/png": "[encoded data removed]",
      "text/plain": [
       "<Figure size 432x288 with 2 Axes>"
      ]
     },
     "metadata": {
      "needs_background": "light"
     },
     "output_type": "display_data"
    }
   ],
   "source": [
    "# confusion matrix\n",
    "\n",
    "# compute the confusion matrix\n",
    "confusion_mtx = confusion_matrix(test_generator.classes, test_pred_classes) \n",
    "\n",
    "CATEGORIES = [\"plate\", \"cup\", \"spoon\", \"knife\", \"glass\", \"fork\"]\n",
    "\n",
    "# plot the confusion matrix\n",
    "ax= plt.subplot()\n",
    "sns.heatmap(confusion_mtx, annot=True, fmt=\"d\") \n",
    "plt.xlabel(\"Predicted Classes\")\n",
    "plt.ylabel(\"True Classes\")\n",
    "plt.title(\"CNN Confusion Matrix\")\n",
    "ax.xaxis.set_ticklabels(CATEGORIES); ax.yaxis.set_ticklabels(CATEGORIES);\n",
    "plt.show()"
   ]
  },
  {
   "cell_type": "code",
   "execution_count": 28,
   "id": "e6d5dde8",
   "metadata": {
    "execution": {
     "iopub.execute_input": "2023-01-31T23:45:09.328402Z",
     "iopub.status.busy": "2023-01-31T23:45:09.327586Z",
     "iopub.status.idle": "2023-01-31T23:45:09.334086Z",
     "shell.execute_reply": "2023-01-31T23:45:09.333143Z"
    },
    "papermill": {
     "duration": 0.043091,
     "end_time": "2023-01-31T23:45:09.336066",
     "exception": false,
     "start_time": "2023-01-31T23:45:09.292975",
     "status": "completed"
    },
    "tags": []
   },
   "outputs": [
    {
     "data": {
      "text/plain": [
       "{'cup': 0, 'fork': 1, 'glass': 2, 'knife': 3, 'plate': 4, 'spoon': 5}"
      ]
     },
     "execution_count": 28,
     "metadata": {},
     "output_type": "execute_result"
    }
   ],
   "source": [
    "test_generator.class_indices"
   ]
  },
  {
   "cell_type": "code",
   "execution_count": 29,
   "id": "d3a202b5",
   "metadata": {
    "execution": {
     "iopub.execute_input": "2023-01-31T23:45:09.405449Z",
     "iopub.status.busy": "2023-01-31T23:45:09.404531Z",
     "iopub.status.idle": "2023-01-31T23:45:09.411229Z",
     "shell.execute_reply": "2023-01-31T23:45:09.410228Z"
    },
    "papermill": {
     "duration": 0.043644,
     "end_time": "2023-01-31T23:45:09.413433",
     "exception": false,
     "start_time": "2023-01-31T23:45:09.369789",
     "status": "completed"
    },
    "tags": []
   },
   "outputs": [
    {
     "data": {
      "text/plain": [
       "(556, 6)"
      ]
     },
     "execution_count": 29,
     "metadata": {},
     "output_type": "execute_result"
    }
   ],
   "source": [
    "test_pred.shape"
   ]
  },
  {
   "cell_type": "markdown",
   "id": "0f0658e0",
   "metadata": {
    "papermill": {
     "duration": 0.033598,
     "end_time": "2023-01-31T23:45:09.480869",
     "exception": false,
     "start_time": "2023-01-31T23:45:09.447271",
     "status": "completed"
    },
    "tags": []
   },
   "source": [
    "### Converting Dictionary's keys and values"
   ]
  },
  {
   "cell_type": "code",
   "execution_count": 30,
   "id": "cea1974c",
   "metadata": {
    "execution": {
     "iopub.execute_input": "2023-01-31T23:45:09.550556Z",
     "iopub.status.busy": "2023-01-31T23:45:09.549872Z",
     "iopub.status.idle": "2023-01-31T23:45:09.558301Z",
     "shell.execute_reply": "2023-01-31T23:45:09.557234Z"
    },
    "papermill": {
     "duration": 0.047031,
     "end_time": "2023-01-31T23:45:09.561633",
     "exception": false,
     "start_time": "2023-01-31T23:45:09.514602",
     "status": "completed"
    },
    "tags": []
   },
   "outputs": [
    {
     "name": "stdout",
     "output_type": "stream",
     "text": [
      "['a', 'b', 'c']\n",
      "[1, 2, 3]\n"
     ]
    },
    {
     "data": {
      "text/plain": [
       "{1: 'a', 2: 'b', 3: 'c'}"
      ]
     },
     "execution_count": 30,
     "metadata": {},
     "output_type": "execute_result"
    }
   ],
   "source": [
    "d = {'a': 1, 'b': 2, 'c': 3}\n",
    "\n",
    "keys = d.keys()\n",
    "values = d.values()\n",
    "\n",
    "print(list(keys)) # ['a', 'b', 'c']\n",
    "print(list(values)) # [1, 2, 3]\n",
    "\n",
    "new_d = dict(zip(values,keys))\n",
    "\n",
    "new_d"
   ]
  },
  {
   "cell_type": "code",
   "execution_count": 31,
   "id": "4d474c1a",
   "metadata": {
    "execution": {
     "iopub.execute_input": "2023-01-31T23:45:09.631524Z",
     "iopub.status.busy": "2023-01-31T23:45:09.630593Z",
     "iopub.status.idle": "2023-01-31T23:45:09.638097Z",
     "shell.execute_reply": "2023-01-31T23:45:09.637095Z"
    },
    "papermill": {
     "duration": 0.04452,
     "end_time": "2023-01-31T23:45:09.640090",
     "exception": false,
     "start_time": "2023-01-31T23:45:09.595570",
     "status": "completed"
    },
    "tags": []
   },
   "outputs": [
    {
     "data": {
      "text/plain": [
       "{0: 'cup', 1: 'fork', 2: 'glass', 3: 'knife', 4: 'plate', 5: 'spoon'}"
      ]
     },
     "execution_count": 31,
     "metadata": {},
     "output_type": "execute_result"
    }
   ],
   "source": [
    "# test_generator.class_indices\n",
    "\n",
    "keys = test_generator.class_indices.keys()\n",
    "values = test_generator.class_indices.values()\n",
    "\n",
    "class_dict = dict(zip(values,keys))\n",
    "\n",
    "class_dict"
   ]
  },
  {
   "cell_type": "code",
   "execution_count": 32,
   "id": "ec5ab11b",
   "metadata": {
    "execution": {
     "iopub.execute_input": "2023-01-31T23:45:09.709630Z",
     "iopub.status.busy": "2023-01-31T23:45:09.708740Z",
     "iopub.status.idle": "2023-01-31T23:45:09.714652Z",
     "shell.execute_reply": "2023-01-31T23:45:09.713525Z"
    },
    "papermill": {
     "duration": 0.04291,
     "end_time": "2023-01-31T23:45:09.716771",
     "exception": false,
     "start_time": "2023-01-31T23:45:09.673861",
     "status": "completed"
    },
    "tags": []
   },
   "outputs": [],
   "source": [
    "def predict(output, class_dict):\n",
    "    # Get the index of the highest value in the output tensor\n",
    "    prediction_index = tf.argmax(output, axis=-1)\n",
    "    \n",
    "    # Use the index to look up the corresponding class or label in the class dictionary\n",
    "    prediction_list = [class_dict[index.numpy()] for index in prediction_index]\n",
    "    \n",
    "    return prediction_list"
   ]
  },
  {
   "cell_type": "markdown",
   "id": "982cbf6f",
   "metadata": {
    "papermill": {
     "duration": 0.034701,
     "end_time": "2023-01-31T23:45:09.787952",
     "exception": false,
     "start_time": "2023-01-31T23:45:09.753251",
     "status": "completed"
    },
    "tags": []
   },
   "source": [
    "# Submission"
   ]
  },
  {
   "cell_type": "code",
   "execution_count": 33,
   "id": "dd68950e",
   "metadata": {
    "execution": {
     "iopub.execute_input": "2023-01-31T23:45:09.858467Z",
     "iopub.status.busy": "2023-01-31T23:45:09.858127Z",
     "iopub.status.idle": "2023-01-31T23:46:21.073155Z",
     "shell.execute_reply": "2023-01-31T23:46:21.072200Z"
    },
    "papermill": {
     "duration": 71.287527,
     "end_time": "2023-01-31T23:46:21.109430",
     "exception": false,
     "start_time": "2023-01-31T23:45:09.821903",
     "status": "completed"
    },
    "tags": []
   },
   "outputs": [
    {
     "data": {
      "text/plain": [
       "array([[5.4171987e-02, 5.6350213e-01, 4.0626476e-04, 1.8842436e-01,\n",
       "        6.8583726e-03, 1.8663694e-01],\n",
       "       [9.5521475e-09, 7.5803887e-06, 2.5467912e-07, 9.9999189e-01,\n",
       "        6.7104160e-08, 1.5246489e-07],\n",
       "       [1.0702986e-03, 9.5517898e-01, 1.4750877e-03, 3.8809653e-02,\n",
       "        2.0985908e-04, 3.2561661e-03],\n",
       "       ...,\n",
       "       [3.5496960e-06, 5.0908067e-05, 4.9924267e-05, 5.7998170e-07,\n",
       "        1.5870257e-06, 9.9989343e-01],\n",
       "       [1.9725046e-06, 9.9944633e-01, 1.1190566e-04, 2.4908381e-05,\n",
       "        7.2515274e-07, 4.1415743e-04],\n",
       "       [9.2507726e-06, 4.7132056e-05, 1.0502016e-04, 1.9987319e-06,\n",
       "        4.7274239e-06, 9.9983180e-01]], dtype=float32)"
      ]
     },
     "execution_count": 33,
     "metadata": {},
     "output_type": "execute_result"
    }
   ],
   "source": [
    "test_preds = model.predict(submit_generator)\n",
    "test_preds"
   ]
  },
  {
   "cell_type": "code",
   "execution_count": 34,
   "id": "c8fae332",
   "metadata": {
    "execution": {
     "iopub.execute_input": "2023-01-31T23:46:21.178760Z",
     "iopub.status.busy": "2023-01-31T23:46:21.177854Z",
     "iopub.status.idle": "2023-01-31T23:46:21.183834Z",
     "shell.execute_reply": "2023-01-31T23:46:21.182379Z"
    },
    "papermill": {
     "duration": 0.043401,
     "end_time": "2023-01-31T23:46:21.186629",
     "exception": false,
     "start_time": "2023-01-31T23:46:21.143228",
     "status": "completed"
    },
    "tags": []
   },
   "outputs": [
    {
     "name": "stdout",
     "output_type": "stream",
     "text": [
      "3808\n"
     ]
    }
   ],
   "source": [
    "print(len(test_preds))"
   ]
  },
  {
   "cell_type": "code",
   "execution_count": 35,
   "id": "ceccfef6",
   "metadata": {
    "_kg_hide-input": false,
    "_kg_hide-output": true,
    "execution": {
     "iopub.execute_input": "2023-01-31T23:46:21.301154Z",
     "iopub.status.busy": "2023-01-31T23:46:21.297641Z",
     "iopub.status.idle": "2023-01-31T23:46:22.615871Z",
     "shell.execute_reply": "2023-01-31T23:46:22.614844Z"
    },
    "papermill": {
     "duration": 1.394207,
     "end_time": "2023-01-31T23:46:22.618122",
     "exception": false,
     "start_time": "2023-01-31T23:46:21.223915",
     "status": "completed"
    },
    "tags": []
   },
   "outputs": [
    {
     "name": "stdout",
     "output_type": "stream",
     "text": [
      "<class 'list'>\n",
      "3808\n"
     ]
    }
   ],
   "source": [
    "test_predictions = predict(test_preds, class_dict)\n",
    "print(type(test_predictions))\n",
    "\n",
    "print(len(test_predictions))"
   ]
  },
  {
   "cell_type": "code",
   "execution_count": 36,
   "id": "8f3c5d65",
   "metadata": {
    "execution": {
     "iopub.execute_input": "2023-01-31T23:46:22.687677Z",
     "iopub.status.busy": "2023-01-31T23:46:22.687368Z",
     "iopub.status.idle": "2023-01-31T23:46:22.700429Z",
     "shell.execute_reply": "2023-01-31T23:46:22.699382Z"
    },
    "papermill": {
     "duration": 0.049761,
     "end_time": "2023-01-31T23:46:22.702577",
     "exception": false,
     "start_time": "2023-01-31T23:46:22.652816",
     "status": "completed"
    },
    "tags": []
   },
   "outputs": [
    {
     "data": {
      "text/html": [
       "<div>\n",
       "<style scoped>\n",
       "    .dataframe tbody tr th:only-of-type {\n",
       "        vertical-align: middle;\n",
       "    }\n",
       "\n",
       "    .dataframe tbody tr th {\n",
       "        vertical-align: top;\n",
       "    }\n",
       "\n",
       "    .dataframe thead th {\n",
       "        text-align: right;\n",
       "    }\n",
       "</style>\n",
       "<table border=\"1\" class=\"dataframe\">\n",
       "  <thead>\n",
       "    <tr style=\"text-align: right;\">\n",
       "      <th></th>\n",
       "      <th>Id</th>\n",
       "      <th>label</th>\n",
       "    </tr>\n",
       "  </thead>\n",
       "  <tbody>\n",
       "    <tr>\n",
       "      <th>0</th>\n",
       "      <td>0678</td>\n",
       "      <td>fork</td>\n",
       "    </tr>\n",
       "    <tr>\n",
       "      <th>1</th>\n",
       "      <td>3962</td>\n",
       "      <td>knife</td>\n",
       "    </tr>\n",
       "    <tr>\n",
       "      <th>2</th>\n",
       "      <td>9271</td>\n",
       "      <td>fork</td>\n",
       "    </tr>\n",
       "    <tr>\n",
       "      <th>3</th>\n",
       "      <td>5133</td>\n",
       "      <td>plate</td>\n",
       "    </tr>\n",
       "    <tr>\n",
       "      <th>4</th>\n",
       "      <td>8842</td>\n",
       "      <td>fork</td>\n",
       "    </tr>\n",
       "    <tr>\n",
       "      <th>...</th>\n",
       "      <td>...</td>\n",
       "      <td>...</td>\n",
       "    </tr>\n",
       "    <tr>\n",
       "      <th>3803</th>\n",
       "      <td>7626</td>\n",
       "      <td>plate</td>\n",
       "    </tr>\n",
       "    <tr>\n",
       "      <th>3804</th>\n",
       "      <td>2052</td>\n",
       "      <td>cup</td>\n",
       "    </tr>\n",
       "    <tr>\n",
       "      <th>3805</th>\n",
       "      <td>8827</td>\n",
       "      <td>spoon</td>\n",
       "    </tr>\n",
       "    <tr>\n",
       "      <th>3806</th>\n",
       "      <td>2299</td>\n",
       "      <td>fork</td>\n",
       "    </tr>\n",
       "    <tr>\n",
       "      <th>3807</th>\n",
       "      <td>2212</td>\n",
       "      <td>spoon</td>\n",
       "    </tr>\n",
       "  </tbody>\n",
       "</table>\n",
       "<p>3808 rows × 2 columns</p>\n",
       "</div>"
      ],
      "text/plain": [
       "        Id  label\n",
       "0     0678   fork\n",
       "1     3962  knife\n",
       "2     9271   fork\n",
       "3     5133  plate\n",
       "4     8842   fork\n",
       "...    ...    ...\n",
       "3803  7626  plate\n",
       "3804  2052    cup\n",
       "3805  8827  spoon\n",
       "3806  2299   fork\n",
       "3807  2212  spoon\n",
       "\n",
       "[3808 rows x 2 columns]"
      ]
     },
     "execution_count": 36,
     "metadata": {},
     "output_type": "execute_result"
    }
   ],
   "source": [
    "df_submission['label'] = test_predictions\n",
    "df_submission"
   ]
  },
  {
   "cell_type": "code",
   "execution_count": 37,
   "id": "2678ff2f",
   "metadata": {
    "execution": {
     "iopub.execute_input": "2023-01-31T23:46:22.771539Z",
     "iopub.status.busy": "2023-01-31T23:46:22.771263Z",
     "iopub.status.idle": "2023-01-31T23:46:22.781299Z",
     "shell.execute_reply": "2023-01-31T23:46:22.780452Z"
    },
    "papermill": {
     "duration": 0.047597,
     "end_time": "2023-01-31T23:46:22.783811",
     "exception": false,
     "start_time": "2023-01-31T23:46:22.736214",
     "status": "completed"
    },
    "tags": []
   },
   "outputs": [],
   "source": [
    "df_submission.to_csv('submission.csv', index=False)"
   ]
  }
 ],
 "metadata": {
  "kernelspec": {
   "display_name": "Python 3 (ipykernel)",
   "language": "python",
   "name": "python3"
  },
  "language_info": {
   "codemirror_mode": {
    "name": "ipython",
    "version": 3
   },
   "file_extension": ".py",
   "mimetype": "text/x-python",
   "name": "python",
   "nbconvert_exporter": "python",
   "pygments_lexer": "ipython3",
   "version": "3.9.15"
  },
  "papermill": {
   "default_parameters": {},
   "duration": 1389.936466,
   "end_time": "2023-01-31T23:46:25.790567",
   "environment_variables": {},
   "exception": null,
   "input_path": "__notebook__.ipynb",
   "output_path": "__notebook__.ipynb",
   "parameters": {},
   "start_time": "2023-01-31T23:23:15.854101",
   "version": "2.3.4"
  }
 },
 "nbformat": 4,
 "nbformat_minor": 5
}
